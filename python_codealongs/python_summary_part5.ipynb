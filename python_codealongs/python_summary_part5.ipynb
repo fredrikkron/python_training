{
 "cells": [
  {
   "cell_type": "markdown",
   "metadata": {},
   "source": [
    "# OOP"
   ]
  },
  {
   "cell_type": "code",
   "execution_count": 2,
   "metadata": {},
   "outputs": [
    {
     "data": {
      "text/plain": [
       "<__main__.Admission at 0x1fb312a6b70>"
      ]
     },
     "execution_count": 2,
     "metadata": {},
     "output_type": "execute_result"
    }
   ],
   "source": [
    "class Admission:\n",
    "    def __init__(self, school, program, name, accept) -> None:\n",
    "        self.school = school\n",
    "        self.program = program\n",
    "        self.name = name\n",
    "        self.accept = accept\n",
    "\n",
    "student1 = Admission(\"Cool school\", \"AI\", \"Fredrik\", True)\n",
    "student1"
   ]
  },
  {
   "cell_type": "code",
   "execution_count": 3,
   "metadata": {},
   "outputs": [
    {
     "data": {
      "text/plain": [
       "'0x1fb312a6b70'"
      ]
     },
     "execution_count": 3,
     "metadata": {},
     "output_type": "execute_result"
    }
   ],
   "source": [
    "hex(id(student1))"
   ]
  },
  {
   "cell_type": "code",
   "execution_count": 6,
   "metadata": {},
   "outputs": [
    {
     "data": {
      "text/plain": [
       "('AI', 'Fredrik', True)"
      ]
     },
     "execution_count": 6,
     "metadata": {},
     "output_type": "execute_result"
    }
   ],
   "source": [
    "student1.program, student1.name, student1.accept"
   ]
  },
  {
   "cell_type": "code",
   "execution_count": 7,
   "metadata": {},
   "outputs": [
    {
     "data": {
      "text/plain": [
       "'data engineer'"
      ]
     },
     "execution_count": 7,
     "metadata": {},
     "output_type": "execute_result"
    }
   ],
   "source": [
    "student1.program = \"data engineer\"\n",
    "student1.program"
   ]
  },
  {
   "cell_type": "code",
   "execution_count": 8,
   "metadata": {},
   "outputs": [
    {
     "data": {
      "text/plain": [
       "<__main__.Admission at 0x1fb312a6e10>"
      ]
     },
     "execution_count": 8,
     "metadata": {},
     "output_type": "execute_result"
    }
   ],
   "source": [
    "student2 = Admission(name=\"Gore bord\", school=\"Anotha cool schoolu\", accept=True, program=\"Java\")\n",
    "student2"
   ]
  },
  {
   "cell_type": "code",
   "execution_count": 10,
   "metadata": {},
   "outputs": [
    {
     "data": {
      "text/plain": [
       "False"
      ]
     },
     "execution_count": 10,
     "metadata": {},
     "output_type": "execute_result"
    }
   ],
   "source": [
    "hex(id(student2)) == hex(id(student1))"
   ]
  },
  {
   "cell_type": "markdown",
   "metadata": {},
   "source": [
    "## \\_\\_repr\\_\\_"
   ]
  },
  {
   "cell_type": "code",
   "execution_count": 13,
   "metadata": {},
   "outputs": [
    {
     "data": {
      "text/plain": [
       "Admission(('Cool school', 'AI', 'Fredrik', True))"
      ]
     },
     "execution_count": 13,
     "metadata": {},
     "output_type": "execute_result"
    }
   ],
   "source": [
    "class Admission:\n",
    "    def __init__(self, school, program, name, accept) -> None:\n",
    "        self.school = school\n",
    "        self.program = program\n",
    "        self.name = name\n",
    "        self.accept = accept\n",
    "\n",
    "    def __repr__(self) -> str:\n",
    "        return f\"Admission({self.school, self.program, self.name, self.accept})\"\n",
    "    \n",
    "student1 = Admission(\"Cool school\", \"AI\", \"Fredrik\", True)\n",
    "student1"
   ]
  },
  {
   "cell_type": "code",
   "execution_count": 14,
   "metadata": {},
   "outputs": [
    {
     "name": "stdout",
     "output_type": "stream",
     "text": [
      "Admission(('Cool school', 'AI', 'Fredrik', True))\n"
     ]
    }
   ],
   "source": [
    "print(student1)"
   ]
  },
  {
   "cell_type": "code",
   "execution_count": 15,
   "metadata": {},
   "outputs": [
    {
     "data": {
      "text/plain": [
       "Admission(('Cool school', 'AI', 'Fredrik', True))"
      ]
     },
     "execution_count": 15,
     "metadata": {},
     "output_type": "execute_result"
    }
   ],
   "source": [
    "class Admission:\n",
    "    def __init__(self, school, program, name, accept) -> None:\n",
    "        self.school = school\n",
    "        self.program = program\n",
    "        self.name = name\n",
    "        self.accept = accept\n",
    "\n",
    "    def __repr__(self) -> str:\n",
    "        return f\"Admission({self.school, self.program, self.name, self.accept})\"\n",
    "    \n",
    "    def __str__(self) -> str:\n",
    "        return f\"Student {self.name}, admitted to program {self.program}\"\n",
    "    \n",
    "student1 = Admission(\"Cool school\", \"AI\", \"Fredrik\", True)\n",
    "student1"
   ]
  },
  {
   "cell_type": "code",
   "execution_count": 16,
   "metadata": {},
   "outputs": [
    {
     "data": {
      "text/plain": [
       "'Student Fredrik, admitted to program AI'"
      ]
     },
     "execution_count": 16,
     "metadata": {},
     "output_type": "execute_result"
    }
   ],
   "source": [
    "str(student1)"
   ]
  },
  {
   "cell_type": "code",
   "execution_count": 17,
   "metadata": {},
   "outputs": [
    {
     "name": "stdout",
     "output_type": "stream",
     "text": [
      "Student Fredrik, admitted to program AI\n"
     ]
    }
   ],
   "source": [
    "print(student1)"
   ]
  },
  {
   "cell_type": "markdown",
   "metadata": {},
   "source": [
    "## Encapsulation"
   ]
  },
  {
   "cell_type": "code",
   "execution_count": 22,
   "metadata": {},
   "outputs": [
    {
     "data": {
      "text/plain": [
       "<__main__.Patient at 0x1fb312a6c90>"
      ]
     },
     "execution_count": 22,
     "metadata": {},
     "output_type": "execute_result"
    }
   ],
   "source": [
    "class Patient:\n",
    "    def __init__(self, name, diagnosis) -> None:\n",
    "        self.name = name\n",
    "        self._diagnosis = diagnosis\n",
    "\n",
    "patient1 = Patient(\"Gore bord\", \"Migraine\")\n",
    "patient1"
   ]
  },
  {
   "cell_type": "code",
   "execution_count": 23,
   "metadata": {},
   "outputs": [
    {
     "data": {
      "text/plain": [
       "'Gore bord'"
      ]
     },
     "execution_count": 23,
     "metadata": {},
     "output_type": "execute_result"
    }
   ],
   "source": [
    "patient1.name"
   ]
  },
  {
   "cell_type": "code",
   "execution_count": 24,
   "metadata": {},
   "outputs": [
    {
     "ename": "AttributeError",
     "evalue": "'Patient' object has no attribute 'diagnosis'",
     "output_type": "error",
     "traceback": [
      "\u001b[1;31m---------------------------------------------------------------------------\u001b[0m",
      "\u001b[1;31mAttributeError\u001b[0m                            Traceback (most recent call last)",
      "Cell \u001b[1;32mIn[24], line 1\u001b[0m\n\u001b[1;32m----> 1\u001b[0m \u001b[43mpatient1\u001b[49m\u001b[38;5;241;43m.\u001b[39;49m\u001b[43mdiagnosis\u001b[49m\n",
      "\u001b[1;31mAttributeError\u001b[0m: 'Patient' object has no attribute 'diagnosis'"
     ]
    }
   ],
   "source": [
    "patient1.diagnosis"
   ]
  },
  {
   "cell_type": "code",
   "execution_count": 25,
   "metadata": {},
   "outputs": [
    {
     "data": {
      "text/plain": [
       "'Migraine'"
      ]
     },
     "execution_count": 25,
     "metadata": {},
     "output_type": "execute_result"
    }
   ],
   "source": [
    "patient1._diagnosis"
   ]
  },
  {
   "cell_type": "code",
   "execution_count": 26,
   "metadata": {},
   "outputs": [
    {
     "data": {
      "text/plain": [
       "<__main__.Patient at 0x1fb31272990>"
      ]
     },
     "execution_count": 26,
     "metadata": {},
     "output_type": "execute_result"
    }
   ],
   "source": [
    "class Patient:\n",
    "    def __init__(self, name, diagnosis) -> None:\n",
    "        self.name = name\n",
    "        self.__diagnosis = diagnosis\n",
    "\n",
    "patient1 = Patient(\"Gore bord\", \"Migraine\")\n",
    "patient1"
   ]
  },
  {
   "cell_type": "code",
   "execution_count": 27,
   "metadata": {},
   "outputs": [
    {
     "ename": "AttributeError",
     "evalue": "'Patient' object has no attribute '__diagnosis'",
     "output_type": "error",
     "traceback": [
      "\u001b[1;31m---------------------------------------------------------------------------\u001b[0m",
      "\u001b[1;31mAttributeError\u001b[0m                            Traceback (most recent call last)",
      "Cell \u001b[1;32mIn[27], line 1\u001b[0m\n\u001b[1;32m----> 1\u001b[0m \u001b[43mpatient1\u001b[49m\u001b[38;5;241;43m.\u001b[39;49m\u001b[43m__diagnosis\u001b[49m\n",
      "\u001b[1;31mAttributeError\u001b[0m: 'Patient' object has no attribute '__diagnosis'"
     ]
    }
   ],
   "source": [
    "patient1.__diagnosis"
   ]
  },
  {
   "cell_type": "code",
   "execution_count": 28,
   "metadata": {},
   "outputs": [
    {
     "data": {
      "text/plain": [
       "{'name': 'Gore bord', '_Patient__diagnosis': 'Migraine'}"
      ]
     },
     "execution_count": 28,
     "metadata": {},
     "output_type": "execute_result"
    }
   ],
   "source": [
    "patient1.__dict__"
   ]
  },
  {
   "cell_type": "markdown",
   "metadata": {},
   "source": [
    "## Property and documentation"
   ]
  },
  {
   "cell_type": "code",
   "execution_count": 29,
   "metadata": {},
   "outputs": [
    {
     "data": {
      "text/plain": [
       "'gore bord'"
      ]
     },
     "execution_count": 29,
     "metadata": {},
     "output_type": "execute_result"
    }
   ],
   "source": [
    "class Student:\n",
    "    def __init__(self, name: str, age: int, active: bool) -> None:\n",
    "        self._name = name\n",
    "\n",
    "    @property\n",
    "    def name(self) -> str:\n",
    "        return self._name\n",
    "    \n",
    "s1 = Student(\"gore bord\", 54, True)\n",
    "s1.name"
   ]
  },
  {
   "cell_type": "code",
   "execution_count": null,
   "metadata": {},
   "outputs": [],
   "source": [
    "s1.name = \"anna\""
   ]
  },
  {
   "cell_type": "code",
   "execution_count": null,
   "metadata": {},
   "outputs": [],
   "source": [
    "from numbers import Number\n",
    "\n",
    "class Student:\n",
    "    def __init__(self, name: str, age: int, active: bool) -> None:\n",
    "        self._name = name\n",
    "        self.age = age\n",
    "\n",
    "    @property\n",
    "    def name(self) -> str:\n",
    "        return self._name\n",
    "    \n",
    "    @property\n",
    "    def age(self) -> int:\n",
    "        return self._age\n",
    "    \n",
    "    @age.setter\n",
    "    def age(self, value) -> None:\n",
    "        if not isinstance(value, Number):\n",
    "            raise TypeError(f\"Age must be either int or float not {type(value)}\")\n",
    "        \n",
    "        if not (0 < value < 125):\n",
    "            raise ValueError(f\"Age must be between 1 and 124, not {value}\")\n",
    "        self._age = value\n",
    "\n",
    "s1 = Student(\"gore bord\", 54, True)\n",
    "s1.age\n",
    "\n",
    "s3 = Student(\"chris\", 154, True)\n",
    "s3.age\n"
   ]
  },
  {
   "cell_type": "code",
   "execution_count": null,
   "metadata": {},
   "outputs": [],
   "source": [
    "s1 = Student(\"gore bordu\", \"4234\", True)"
   ]
  },
  {
   "cell_type": "code",
   "execution_count": 37,
   "metadata": {},
   "outputs": [
    {
     "data": {
      "text/plain": [
       "3"
      ]
     },
     "execution_count": 37,
     "metadata": {},
     "output_type": "execute_result"
    }
   ],
   "source": [
    "from numbers import Number\n",
    "\n",
    "class Student:\n",
    "\n",
    "    number_students = 0\n",
    "\n",
    "    def __init__(self, name: str, age: int, active: bool) -> None:\n",
    "        self._name = name\n",
    "        self.age = age\n",
    "        Student.number_students += 1\n",
    "\n",
    "    @property\n",
    "    def name(self) -> str:\n",
    "        return self._name\n",
    "    \n",
    "    @property\n",
    "    def age(self) -> int:\n",
    "        return self._age\n",
    "    \n",
    "    @age.setter\n",
    "    def age(self, value) -> None:\n",
    "        if not isinstance(value, Number):\n",
    "            raise TypeError(f\"Age must be either int or float not {type(value)}\")\n",
    "        \n",
    "        if not (0 < value < 125):\n",
    "            raise ValueError(f\"Age must be between 1 and 124, not {value}\")\n",
    "        \n",
    "\n",
    "        self._age = value\n",
    "\n",
    "s4 = Student(\"Chris\", 15, True)\n",
    "s5 = Student(\"Erik\", 15, True)\n",
    "s6 = Student(\"Erika\", 15, True)\n",
    "s6.number_students\n"
   ]
  },
  {
   "cell_type": "code",
   "execution_count": 39,
   "metadata": {},
   "outputs": [
    {
     "name": "stdout",
     "output_type": "stream",
     "text": [
      "Maria says hi\n"
     ]
    }
   ],
   "source": [
    "from numbers import Number\n",
    "\n",
    "class Student:\n",
    "    \"\"\"Student class for representing students with name, age, active\"\"\"\n",
    "    number_students = 0\n",
    "\n",
    "    def __init__(self, name: str, age: int, active: bool) -> None:\n",
    "        self._name = name\n",
    "        self.age = age\n",
    "        Student.number_students += 1\n",
    "\n",
    "    @property\n",
    "    def name(self) -> str:\n",
    "        \"\"\"Read only property, can't set name\"\"\"\n",
    "        return self._name\n",
    "    \n",
    "    @property\n",
    "    def age(self) -> int:\n",
    "        return self._age\n",
    "    \n",
    "    @age.setter\n",
    "    def age(self, value: Number) -> None:\n",
    "        if not isinstance(value, Number):\n",
    "            raise TypeError(f\"Age must be either int or float not {type(value)}\")\n",
    "        \n",
    "        if not (0 < value < 125):\n",
    "            raise ValueError(f\"Age must be between 1 and 124, not {value}\")\n",
    "        \n",
    "\n",
    "        self._age = value\n",
    "\n",
    "    def say_hi(self) -> None:\n",
    "        print(f\"{self.name} says hi\")\n",
    "\n",
    "    \n",
    "s7 = Student(\"Maria\", 15, True)\n",
    "s7.say_hi()"
   ]
  },
  {
   "cell_type": "code",
   "execution_count": null,
   "metadata": {},
   "outputs": [],
   "source": [
    "help(Student)"
   ]
  }
 ],
 "metadata": {
  "kernelspec": {
   "display_name": ".venv",
   "language": "python",
   "name": "python3"
  },
  "language_info": {
   "codemirror_mode": {
    "name": "ipython",
    "version": 3
   },
   "file_extension": ".py",
   "mimetype": "text/x-python",
   "name": "python",
   "nbconvert_exporter": "python",
   "pygments_lexer": "ipython3",
   "version": "3.12.5"
  }
 },
 "nbformat": 4,
 "nbformat_minor": 2
}
