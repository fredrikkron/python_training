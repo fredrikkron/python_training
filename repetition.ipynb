{
 "cells": [
  {
   "cell_type": "code",
   "execution_count": 4,
   "metadata": {},
   "outputs": [
    {
     "name": "stdout",
     "output_type": "stream",
     "text": [
      "Number is bigger than 10\n"
     ]
    }
   ],
   "source": [
    "number = int(input(\"Write in a number: \"))\n",
    "\n",
    "if number > 10:\n",
    "    print(\"Number is bigger than 10\")\n",
    "elif number < 10:\n",
    "    print(\"Number is lower than 10\")\n",
    "else:\n",
    "    print(\"Number is 10\")"
   ]
  },
  {
   "cell_type": "code",
   "execution_count": 10,
   "metadata": {},
   "outputs": [
    {
     "name": "stdout",
     "output_type": "stream",
     "text": [
      "Your password is not 8 characters or more\n",
      "Your password is not 8 characters or more\n",
      "Password created\n"
     ]
    }
   ],
   "source": [
    "while True:\n",
    "    password = input(\"Write your password: \")\n",
    "    if len(password) >= 8:\n",
    "        print(\"Password created\")\n",
    "        break\n",
    "    else:   \n",
    "        print(\"Your password is not 8 characters or more\")\n",
    "        continue"
   ]
  },
  {
   "cell_type": "code",
   "execution_count": 22,
   "metadata": {},
   "outputs": [
    {
     "name": "stdout",
     "output_type": "stream",
     "text": [
      "Invalid input, please type in a number: \n",
      "Invalid input, please type in a number: \n",
      "Discount too high\n",
      "Discount too high\n",
      "The new price after discount is 240.0\n"
     ]
    }
   ],
   "source": [
    "while True:\n",
    "    try:\n",
    "        price = float(input(\"Type in price: \"))\n",
    "        discount = int(input(\"Type in discount: \"))\n",
    "\n",
    "        discount_percent = discount / 100\n",
    "\n",
    "        if discount_percent > 0.5:\n",
    "            print(\"Discount too high\")\n",
    "            continue\n",
    "\n",
    "        discount_price = price * (1-discount_percent)\n",
    "        print(f\"The new price after discount is {discount_price}\")\n",
    "        break\n",
    "    except ValueError:\n",
    "        print(\"Invalid input, please type in a number: \")\n"
   ]
  },
  {
   "cell_type": "code",
   "execution_count": 7,
   "metadata": {},
   "outputs": [
    {
     "name": "stdout",
     "output_type": "stream",
     "text": [
      "Invalid input, try again\n",
      "Invalid input, try again\n",
      "The number is even\n"
     ]
    }
   ],
   "source": [
    "while True:\n",
    "    try:\n",
    "        number_ = int(input(\"Write a number, no decimals: \"))\n",
    "        if number_ % 2 == 0:\n",
    "            print(\"The number is even\")\n",
    "        else:\n",
    "            print(\"The number is odd\")\n",
    "        break\n",
    "    except ValueError:\n",
    "        print(\"Invalid input, try again\")\n",
    "        continue   "
   ]
  },
  {
   "cell_type": "code",
   "execution_count": 42,
   "metadata": {},
   "outputs": [
    {
     "data": {
      "text/plain": [
       "[1, 2, 3, 4, 5, 6, 7, 8, 9, 10]"
      ]
     },
     "execution_count": 42,
     "metadata": {},
     "output_type": "execute_result"
    }
   ],
   "source": [
    "a_list = [1,3,4,5,6,7,2]\n",
    "\n",
    "a_list.insert(1,2)\n",
    "a_list.sort()\n",
    "a_list.pop(2)\n",
    "a_list[0:1] = 10,12\n",
    "a_list[-1] = 8\n",
    "a_list[7:] = 7,8\n",
    "a_list[1:3] = [4]\n",
    "a_list.sort()\n",
    "a_list.insert(0,1)\n",
    "a_list.insert(1,2)\n",
    "a_list.pop(3)\n",
    "a_list.insert(8,9)\n",
    "a_list"
   ]
  },
  {
   "cell_type": "code",
   "execution_count": 43,
   "metadata": {},
   "outputs": [
    {
     "data": {
      "text/plain": [
       "[1, 2, 3, 4, 5, 6, 7, 8, 9, 10, 11, 12, 13, 14, 15]"
      ]
     },
     "execution_count": 43,
     "metadata": {},
     "output_type": "execute_result"
    }
   ],
   "source": [
    "b_list = [11,12,13,14,15]\n",
    "a_list.extend(b_list)\n",
    "a_list"
   ]
  },
  {
   "cell_type": "code",
   "execution_count": 49,
   "metadata": {},
   "outputs": [
    {
     "name": "stdout",
     "output_type": "stream",
     "text": [
      "11\n",
      "12\n",
      "13\n",
      "14\n",
      "15\n"
     ]
    },
    {
     "data": {
      "text/plain": [
       "[None, None, None, None, None]"
      ]
     },
     "execution_count": 49,
     "metadata": {},
     "output_type": "execute_result"
    }
   ],
   "source": [
    "[print(x) for x in b_list]"
   ]
  },
  {
   "cell_type": "code",
   "execution_count": 61,
   "metadata": {},
   "outputs": [
    {
     "data": {
      "text/plain": [
       "[16, 17, 18, 19, 20]"
      ]
     },
     "execution_count": 61,
     "metadata": {},
     "output_type": "execute_result"
    }
   ],
   "source": [
    "c_list = [x for x in range(16,25) if x < 21]\n",
    "c_list"
   ]
  },
  {
   "cell_type": "code",
   "execution_count": null,
   "metadata": {},
   "outputs": [],
   "source": []
  }
 ],
 "metadata": {
  "kernelspec": {
   "display_name": ".venv",
   "language": "python",
   "name": "python3"
  },
  "language_info": {
   "codemirror_mode": {
    "name": "ipython",
    "version": 3
   },
   "file_extension": ".py",
   "mimetype": "text/x-python",
   "name": "python",
   "nbconvert_exporter": "python",
   "pygments_lexer": "ipython3",
   "version": "3.12.5"
  }
 },
 "nbformat": 4,
 "nbformat_minor": 2
}
