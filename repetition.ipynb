{
 "cells": [
  {
   "cell_type": "code",
   "execution_count": 4,
   "metadata": {},
   "outputs": [
    {
     "name": "stdout",
     "output_type": "stream",
     "text": [
      "Number is bigger than 10\n"
     ]
    }
   ],
   "source": [
    "number = int(input(\"Write in a number: \"))\n",
    "\n",
    "if number > 10:\n",
    "    print(\"Number is bigger than 10\")\n",
    "elif number < 10:\n",
    "    print(\"Number is lower than 10\")\n",
    "else:\n",
    "    print(\"Number is 10\")"
   ]
  },
  {
   "cell_type": "code",
   "execution_count": 10,
   "metadata": {},
   "outputs": [
    {
     "name": "stdout",
     "output_type": "stream",
     "text": [
      "Your password is not 8 characters or more\n",
      "Your password is not 8 characters or more\n",
      "Password created\n"
     ]
    }
   ],
   "source": [
    "while True:\n",
    "    password = input(\"Write your password: \")\n",
    "    if len(password) >= 8:\n",
    "        print(\"Password created\")\n",
    "        break\n",
    "    else:   \n",
    "        print(\"Your password is not 8 characters or more\")\n",
    "        continue"
   ]
  },
  {
   "cell_type": "code",
   "execution_count": 22,
   "metadata": {},
   "outputs": [
    {
     "name": "stdout",
     "output_type": "stream",
     "text": [
      "Invalid input, please type in a number: \n",
      "Invalid input, please type in a number: \n",
      "Discount too high\n",
      "Discount too high\n",
      "The new price after discount is 240.0\n"
     ]
    }
   ],
   "source": [
    "while True:\n",
    "    try:\n",
    "        price = float(input(\"Type in price: \"))\n",
    "        discount = int(input(\"Type in discount: \"))\n",
    "\n",
    "        discount_percent = discount / 100\n",
    "\n",
    "        if discount_percent > 0.5:\n",
    "            print(\"Discount too high\")\n",
    "            continue\n",
    "\n",
    "        discount_price = price * (1-discount_percent)\n",
    "        print(f\"The new price after discount is {discount_price}\")\n",
    "        break\n",
    "    except ValueError:\n",
    "        print(\"Invalid input, please type in a number: \")\n"
   ]
  },
  {
   "cell_type": "code",
   "execution_count": 7,
   "metadata": {},
   "outputs": [
    {
     "name": "stdout",
     "output_type": "stream",
     "text": [
      "Invalid input, try again\n",
      "Invalid input, try again\n",
      "The number is even\n"
     ]
    }
   ],
   "source": [
    "while True:\n",
    "    try:\n",
    "        number_ = int(input(\"Write a number, no decimals: \"))\n",
    "        if number_ % 2 == 0:\n",
    "            print(\"The number is even\")\n",
    "        else:\n",
    "            print(\"The number is odd\")\n",
    "        break\n",
    "    except ValueError:\n",
    "        print(\"Invalid input, try again\")\n",
    "        continue   "
   ]
  }
 ],
 "metadata": {
  "kernelspec": {
   "display_name": ".venv",
   "language": "python",
   "name": "python3"
  },
  "language_info": {
   "codemirror_mode": {
    "name": "ipython",
    "version": 3
   },
   "file_extension": ".py",
   "mimetype": "text/x-python",
   "name": "python",
   "nbconvert_exporter": "python",
   "pygments_lexer": "ipython3",
   "version": "3.12.5"
  }
 },
 "nbformat": 4,
 "nbformat_minor": 2
}
